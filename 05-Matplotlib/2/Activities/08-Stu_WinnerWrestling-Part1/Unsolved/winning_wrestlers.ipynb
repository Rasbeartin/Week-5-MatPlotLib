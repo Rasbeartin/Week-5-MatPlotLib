{
 "cells": [
  {
   "cell_type": "markdown",
   "metadata": {},
   "source": [
    "# Winnining Wrestlers Entertainment\n",
    "\n",
    "In this activity you will be taking four seperate csvs that were scraped down from a wrestling database, merging them together, and then creating charts to visualize a wrestler's wins and losses over the course of four years.\n",
    "\n",
    "### Part 1 - Macho Merging\n",
    "\n",
    "* You will likely need to perform three different merges over the course of this activity, changing the names of your columns as you go along."
   ]
  },
  {
   "cell_type": "code",
   "execution_count": 7,
   "metadata": {},
   "outputs": [],
   "source": [
    "# Import the necessary modules\n",
    "import matplotlib.pyplot as plt\n",
    "import pandas as pd\n",
    "import numpy as np\n",
    "\n",
    "\n"
   ]
  },
  {
   "cell_type": "code",
   "execution_count": 21,
   "metadata": {},
   "outputs": [
    {
     "ename": "TypeError",
     "evalue": "'DataFrame' object is not callable",
     "output_type": "error",
     "traceback": [
      "\u001b[1;31m---------------------------------------------------------------------------\u001b[0m",
      "\u001b[1;31mTypeError\u001b[0m                                 Traceback (most recent call last)",
      "\u001b[1;32m<ipython-input-21-9acc20e8db6e>\u001b[0m in \u001b[0;36m<module>\u001b[1;34m()\u001b[0m\n\u001b[0;32m     13\u001b[0m                   \u001b[1;34m'Wins'\u001b[0m\u001b[1;33m:\u001b[0m\u001b[1;34m'2013 Wins'\u001b[0m\u001b[1;33m,\u001b[0m\u001b[1;33m\u001b[0m\u001b[0m\n\u001b[0;32m     14\u001b[0m                   \u001b[1;34m'Losses'\u001b[0m\u001b[1;33m:\u001b[0m \u001b[1;34m'2013 Loses'\u001b[0m\u001b[1;33m,\u001b[0m\u001b[1;33m\u001b[0m\u001b[0m\n\u001b[1;32m---> 15\u001b[1;33m                   'Draws': '2013 Draws'})\n\u001b[0m\u001b[0;32m     16\u001b[0m \u001b[0mformatted_wrestler_2013_df\u001b[0m\u001b[1;33m\u001b[0m\u001b[0m\n",
      "\u001b[1;31mTypeError\u001b[0m: 'DataFrame' object is not callable"
     ]
    }
   ],
   "source": [
    "# Bring each CSV into a separate data frame\n",
    "wrestling_2013 = \"../Resources/WWE-Data-2013.csv\"\n",
    "wrestling_2014 = \"../Resources/WWE-Data-2014.csv\"\n",
    "wrestling_2015 = \"../Resources/WWE-Data-2015.csv\"\n",
    "wrestling_2016 = \"../Resources/WWE-Data-2016.csv\"\n",
    "\n",
    "wrestlers_2013_df = pd.read_csv(wrestling_2013)\n",
    "wrestlers_2014_df = pd.read_csv(wrestling_2014)\n",
    "wrestlers_2015_df = pd.read_csv(wrestling_2015)\n",
    "wrestlers_2016_df = pd.read_csv(wrestling_2016)"
   ]
  },
  {
   "cell_type": "code",
   "execution_count": 9,
   "metadata": {},
   "outputs": [
    {
     "data": {
      "text/html": [
       "<div>\n",
       "<style scoped>\n",
       "    .dataframe tbody tr th:only-of-type {\n",
       "        vertical-align: middle;\n",
       "    }\n",
       "\n",
       "    .dataframe tbody tr th {\n",
       "        vertical-align: top;\n",
       "    }\n",
       "\n",
       "    .dataframe thead th {\n",
       "        text-align: right;\n",
       "    }\n",
       "</style>\n",
       "<table border=\"1\" class=\"dataframe\">\n",
       "  <thead>\n",
       "    <tr style=\"text-align: right;\">\n",
       "      <th></th>\n",
       "      <th>Wrestler</th>\n",
       "      <th>Wins</th>\n",
       "      <th>Losses</th>\n",
       "      <th>Draws</th>\n",
       "    </tr>\n",
       "  </thead>\n",
       "  <tbody>\n",
       "    <tr>\n",
       "      <th>0</th>\n",
       "      <td>Dolph Ziggler</td>\n",
       "      <td>134</td>\n",
       "      <td>60</td>\n",
       "      <td>2</td>\n",
       "    </tr>\n",
       "    <tr>\n",
       "      <th>1</th>\n",
       "      <td>Seth Rollins</td>\n",
       "      <td>87</td>\n",
       "      <td>105</td>\n",
       "      <td>4</td>\n",
       "    </tr>\n",
       "    <tr>\n",
       "      <th>2</th>\n",
       "      <td>Jimmy Uso</td>\n",
       "      <td>143</td>\n",
       "      <td>43</td>\n",
       "      <td>4</td>\n",
       "    </tr>\n",
       "    <tr>\n",
       "      <th>3</th>\n",
       "      <td>Cesaro</td>\n",
       "      <td>64</td>\n",
       "      <td>120</td>\n",
       "      <td>1</td>\n",
       "    </tr>\n",
       "    <tr>\n",
       "      <th>4</th>\n",
       "      <td>Jey Uso</td>\n",
       "      <td>139</td>\n",
       "      <td>42</td>\n",
       "      <td>4</td>\n",
       "    </tr>\n",
       "  </tbody>\n",
       "</table>\n",
       "</div>"
      ],
      "text/plain": [
       "        Wrestler  Wins  Losses  Draws\n",
       "0  Dolph Ziggler   134      60      2\n",
       "1   Seth Rollins    87     105      4\n",
       "2      Jimmy Uso   143      43      4\n",
       "3         Cesaro    64     120      1\n",
       "4        Jey Uso   139      42      4"
      ]
     },
     "execution_count": 9,
     "metadata": {},
     "output_type": "execute_result"
    }
   ],
   "source": []
  },
  {
   "cell_type": "code",
   "execution_count": 10,
   "metadata": {},
   "outputs": [
    {
     "data": {
      "text/html": [
       "<div>\n",
       "<style scoped>\n",
       "    .dataframe tbody tr th:only-of-type {\n",
       "        vertical-align: middle;\n",
       "    }\n",
       "\n",
       "    .dataframe tbody tr th {\n",
       "        vertical-align: top;\n",
       "    }\n",
       "\n",
       "    .dataframe thead th {\n",
       "        text-align: right;\n",
       "    }\n",
       "</style>\n",
       "<table border=\"1\" class=\"dataframe\">\n",
       "  <thead>\n",
       "    <tr style=\"text-align: right;\">\n",
       "      <th></th>\n",
       "      <th>Wrestler</th>\n",
       "      <th>Wins</th>\n",
       "      <th>Losses</th>\n",
       "      <th>Draws</th>\n",
       "    </tr>\n",
       "  </thead>\n",
       "  <tbody>\n",
       "    <tr>\n",
       "      <th>0</th>\n",
       "      <td>Dean Ambrose</td>\n",
       "      <td>150</td>\n",
       "      <td>63</td>\n",
       "      <td>5</td>\n",
       "    </tr>\n",
       "    <tr>\n",
       "      <th>1</th>\n",
       "      <td>Roman Reigns</td>\n",
       "      <td>187</td>\n",
       "      <td>19</td>\n",
       "      <td>7</td>\n",
       "    </tr>\n",
       "    <tr>\n",
       "      <th>2</th>\n",
       "      <td>Cesaro</td>\n",
       "      <td>117</td>\n",
       "      <td>69</td>\n",
       "      <td>1</td>\n",
       "    </tr>\n",
       "    <tr>\n",
       "      <th>3</th>\n",
       "      <td>Big E</td>\n",
       "      <td>96</td>\n",
       "      <td>86</td>\n",
       "      <td>1</td>\n",
       "    </tr>\n",
       "    <tr>\n",
       "      <th>4</th>\n",
       "      <td>Luke Harper</td>\n",
       "      <td>55</td>\n",
       "      <td>122</td>\n",
       "      <td>3</td>\n",
       "    </tr>\n",
       "  </tbody>\n",
       "</table>\n",
       "</div>"
      ],
      "text/plain": [
       "       Wrestler  Wins  Losses  Draws\n",
       "0  Dean Ambrose   150      63      5\n",
       "1  Roman Reigns   187      19      7\n",
       "2        Cesaro   117      69      1\n",
       "3         Big E    96      86      1\n",
       "4   Luke Harper    55     122      3"
      ]
     },
     "execution_count": 10,
     "metadata": {},
     "output_type": "execute_result"
    }
   ],
   "source": []
  },
  {
   "cell_type": "code",
   "execution_count": 11,
   "metadata": {},
   "outputs": [
    {
     "data": {
      "text/html": [
       "<div>\n",
       "<style scoped>\n",
       "    .dataframe tbody tr th:only-of-type {\n",
       "        vertical-align: middle;\n",
       "    }\n",
       "\n",
       "    .dataframe tbody tr th {\n",
       "        vertical-align: top;\n",
       "    }\n",
       "\n",
       "    .dataframe thead th {\n",
       "        text-align: right;\n",
       "    }\n",
       "</style>\n",
       "<table border=\"1\" class=\"dataframe\">\n",
       "  <thead>\n",
       "    <tr style=\"text-align: right;\">\n",
       "      <th></th>\n",
       "      <th>Wrestler</th>\n",
       "      <th>Wins</th>\n",
       "      <th>Losses</th>\n",
       "      <th>Draws</th>\n",
       "    </tr>\n",
       "  </thead>\n",
       "  <tbody>\n",
       "    <tr>\n",
       "      <th>0</th>\n",
       "      <td>Dolph Ziggler</td>\n",
       "      <td>134</td>\n",
       "      <td>60</td>\n",
       "      <td>2</td>\n",
       "    </tr>\n",
       "    <tr>\n",
       "      <th>1</th>\n",
       "      <td>Seth Rollins</td>\n",
       "      <td>87</td>\n",
       "      <td>105</td>\n",
       "      <td>4</td>\n",
       "    </tr>\n",
       "    <tr>\n",
       "      <th>2</th>\n",
       "      <td>Jimmy Uso</td>\n",
       "      <td>143</td>\n",
       "      <td>43</td>\n",
       "      <td>4</td>\n",
       "    </tr>\n",
       "    <tr>\n",
       "      <th>3</th>\n",
       "      <td>Cesaro</td>\n",
       "      <td>64</td>\n",
       "      <td>120</td>\n",
       "      <td>1</td>\n",
       "    </tr>\n",
       "    <tr>\n",
       "      <th>4</th>\n",
       "      <td>Jey Uso</td>\n",
       "      <td>139</td>\n",
       "      <td>42</td>\n",
       "      <td>4</td>\n",
       "    </tr>\n",
       "  </tbody>\n",
       "</table>\n",
       "</div>"
      ],
      "text/plain": [
       "        Wrestler  Wins  Losses  Draws\n",
       "0  Dolph Ziggler   134      60      2\n",
       "1   Seth Rollins    87     105      4\n",
       "2      Jimmy Uso   143      43      4\n",
       "3         Cesaro    64     120      1\n",
       "4        Jey Uso   139      42      4"
      ]
     },
     "execution_count": 11,
     "metadata": {},
     "output_type": "execute_result"
    }
   ],
   "source": []
  },
  {
   "cell_type": "code",
   "execution_count": 12,
   "metadata": {},
   "outputs": [],
   "source": [
    "# Merge the first two datasets (2013 and 2014) on \"Wrestler\" so that no data is lost (should be 182 rows)\n",
    "combined_wrestlers_df = pd.merge(wrestlers_2013_df, wrestlers_2014_df,\n",
    "                                 how='outer', on='Wrestler')\n",
    "combined_wrestlers_df.head()\n",
    "\n"
   ]
  },
  {
   "cell_type": "code",
   "execution_count": 13,
   "metadata": {},
   "outputs": [],
   "source": [
    "\n",
    "# Rename our _x columns to \"2013 Wins\", \"2013 Losses\", and \"2013 Draws\"\n",
    "combined_wrestlers_df = combined_wrestlers_df.rename(columns={\"Wins_x\":\"2013 Wins\",\n",
    "                                                              \"Losses_x\":\"2013 Losses\",\n",
    "                                                              \"Draws_x\":\"2013 Draws\"})\n",
    "\n",
    "# Rename our _y columns to \"2014 Wins\", \"2014 Losses\", and \"2014 Draws\"\n",
    "combined_wrestlers_df = combined_wrestlers_df.rename(columns={\"Wins_y\":\"2014 Wins\",\n",
    "                                                              \"Losses_y\":\"2014 Losses\",\n",
    "                                                              \"Draws_y\":\"2014 Draws\"})\n",
    "\n",
    "combined_wrestlers_df.head()\n"
   ]
  },
  {
   "cell_type": "code",
   "execution_count": 14,
   "metadata": {},
   "outputs": [],
   "source": [
    "\n",
    "# Merge our newly combined dataframe with the 2015 dataframe\n",
    "combined_wrestlers_df = pd.merge(combined_wrestlers_df, wrestlers_2015_df, how=\"outer\", on=\"Wrestler\")\n",
    "combined_wrestlers_df\n"
   ]
  },
  {
   "cell_type": "code",
   "execution_count": 15,
   "metadata": {
    "scrolled": true
   },
   "outputs": [],
   "source": [
    "# Rename \"wins\", \"losses\", and \"draws\" to \"2015 Wins\", \"2015 Losses\", and \"2015 Draws\"\n",
    "combined_wrestlers_df = combined_wrestlers_df.rename(columns={\"Wins\":\"2015 Wins\",\"Losses\":\"2015 Losses\",\"Draws\":\"2015 Draws\"})\n",
    "\n",
    "combined_wrestlers_df.head()\n"
   ]
  },
  {
   "cell_type": "code",
   "execution_count": 16,
   "metadata": {},
   "outputs": [],
   "source": [
    "# Merge our newly combined dataframe with the 2016 dataframe\n",
    "combined_wrestlers_df = pd.merge(combined_wrestlers_df, wrestlers_2016_df, how=\"outer\", on=\"Wrestler\")\n",
    "combined_wrestlers_df\n",
    "\n"
   ]
  },
  {
   "cell_type": "code",
   "execution_count": 17,
   "metadata": {},
   "outputs": [],
   "source": [
    "# Rename \"wins\", \"losses\", and \"draws\" to \"2016 Wins\", \"2016 Losses\", and \"2016 Draws\"\n",
    "combined_wrestlers_df = combined_wrestlers_df.rename(columns={\"Wins\":\"2016 Wins\",\"Losses\":\"2016 Losses\",\"Draws\":\"2016 Draws\"})\n",
    "\n",
    "combined_wrestlers_df.head(10)\n"
   ]
  }
 ],
 "metadata": {
  "kernelspec": {
   "display_name": "Python 3",
   "language": "python",
   "name": "python3"
  },
  "language_info": {
   "codemirror_mode": {
    "name": "ipython",
    "version": 3
   },
   "file_extension": ".py",
   "mimetype": "text/x-python",
   "name": "python",
   "nbconvert_exporter": "python",
   "pygments_lexer": "ipython3",
   "version": "3.6.5"
  }
 },
 "nbformat": 4,
 "nbformat_minor": 2
}
