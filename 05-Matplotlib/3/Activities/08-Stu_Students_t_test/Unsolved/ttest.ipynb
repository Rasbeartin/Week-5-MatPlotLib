{
 "cells": [
  {
   "cell_type": "code",
   "execution_count": 1,
   "metadata": {},
   "outputs": [],
   "source": [
    "# Dependencies\n",
    "import matplotlib.pyplot as plt\n",
    "import numpy as np\n",
    "import pandas as pd\n",
    "from scipy.stats import sem, ttest_ind\n",
    "import stats"
   ]
  },
  {
   "cell_type": "code",
   "execution_count": 2,
   "metadata": {},
   "outputs": [
    {
     "data": {
      "text/html": [
       "<div>\n",
       "<style scoped>\n",
       "    .dataframe tbody tr th:only-of-type {\n",
       "        vertical-align: middle;\n",
       "    }\n",
       "\n",
       "    .dataframe tbody tr th {\n",
       "        vertical-align: top;\n",
       "    }\n",
       "\n",
       "    .dataframe thead th {\n",
       "        text-align: right;\n",
       "    }\n",
       "</style>\n",
       "<table border=\"1\" class=\"dataframe\">\n",
       "  <thead>\n",
       "    <tr style=\"text-align: right;\">\n",
       "      <th></th>\n",
       "      <th>name</th>\n",
       "      <th>position</th>\n",
       "      <th>age</th>\n",
       "      <th>height</th>\n",
       "    </tr>\n",
       "  </thead>\n",
       "  <tbody>\n",
       "    <tr>\n",
       "      <th>0</th>\n",
       "      <td>Matee Ajavon</td>\n",
       "      <td>G</td>\n",
       "      <td>28</td>\n",
       "      <td>68</td>\n",
       "    </tr>\n",
       "    <tr>\n",
       "      <th>1</th>\n",
       "      <td>Swin Cash</td>\n",
       "      <td>F</td>\n",
       "      <td>34</td>\n",
       "      <td>73</td>\n",
       "    </tr>\n",
       "    <tr>\n",
       "      <th>2</th>\n",
       "      <td>Erika de Souza</td>\n",
       "      <td>F</td>\n",
       "      <td>32</td>\n",
       "      <td>77</td>\n",
       "    </tr>\n",
       "    <tr>\n",
       "      <th>3</th>\n",
       "      <td>Celine Dumerc</td>\n",
       "      <td>G</td>\n",
       "      <td>31</td>\n",
       "      <td>66</td>\n",
       "    </tr>\n",
       "    <tr>\n",
       "      <th>4</th>\n",
       "      <td>Nadia Gomes Colhado</td>\n",
       "      <td>C</td>\n",
       "      <td>25</td>\n",
       "      <td>76</td>\n",
       "    </tr>\n",
       "  </tbody>\n",
       "</table>\n",
       "</div>"
      ],
      "text/plain": [
       "                  name position  age  height\n",
       "0         Matee Ajavon        G   28      68\n",
       "1            Swin Cash        F   34      73\n",
       "2       Erika de Souza        F   32      77\n",
       "3        Celine Dumerc        G   31      66\n",
       "4  Nadia Gomes Colhado        C   25      76"
      ]
     },
     "execution_count": 2,
     "metadata": {},
     "output_type": "execute_result"
    }
   ],
   "source": [
    "# Read in data\n",
    "general_heights_file = \"../Resources/general_heights.csv\"\n",
    "wba_data_file = \"../Resources/wba_data.csv\"\n",
    "gen_heights_data = pd.read_csv(general_heights_file)\n",
    "wba_data = pd.read_csv(wba_data_file)\n",
    "wba_data.head()"
   ]
  },
  {
   "cell_type": "code",
   "execution_count": 3,
   "metadata": {},
   "outputs": [
    {
     "data": {
      "text/html": [
       "<div>\n",
       "<style scoped>\n",
       "    .dataframe tbody tr th:only-of-type {\n",
       "        vertical-align: middle;\n",
       "    }\n",
       "\n",
       "    .dataframe tbody tr th {\n",
       "        vertical-align: top;\n",
       "    }\n",
       "\n",
       "    .dataframe thead th {\n",
       "        text-align: right;\n",
       "    }\n",
       "</style>\n",
       "<table border=\"1\" class=\"dataframe\">\n",
       "  <thead>\n",
       "    <tr style=\"text-align: right;\">\n",
       "      <th></th>\n",
       "      <th>height</th>\n",
       "    </tr>\n",
       "  </thead>\n",
       "  <tbody>\n",
       "    <tr>\n",
       "      <th>0</th>\n",
       "      <td>67.0</td>\n",
       "    </tr>\n",
       "    <tr>\n",
       "      <th>1</th>\n",
       "      <td>64.0</td>\n",
       "    </tr>\n",
       "    <tr>\n",
       "      <th>2</th>\n",
       "      <td>61.0</td>\n",
       "    </tr>\n",
       "    <tr>\n",
       "      <th>3</th>\n",
       "      <td>61.0</td>\n",
       "    </tr>\n",
       "    <tr>\n",
       "      <th>4</th>\n",
       "      <td>63.0</td>\n",
       "    </tr>\n",
       "  </tbody>\n",
       "</table>\n",
       "</div>"
      ],
      "text/plain": [
       "   height\n",
       "0    67.0\n",
       "1    64.0\n",
       "2    61.0\n",
       "3    61.0\n",
       "4    63.0"
      ]
     },
     "execution_count": 3,
     "metadata": {},
     "output_type": "execute_result"
    }
   ],
   "source": [
    "gen_heights_data.head()"
   ]
  },
  {
   "cell_type": "code",
   "execution_count": 16,
   "metadata": {},
   "outputs": [
    {
     "name": "stdout",
     "output_type": "stream",
     "text": [
      "[Series([], Name: height, dtype: int64), 20    77\n",
      "21    77\n",
      "22    69\n",
      "23    70\n",
      "24    68\n",
      "25    74\n",
      "26    67\n",
      "27    76\n",
      "28    78\n",
      "29    72\n",
      "30    71\n",
      "31    74\n",
      "32    70\n",
      "33    71\n",
      "34    67\n",
      "35    76\n",
      "36    76\n",
      "37    74\n",
      "38    66\n",
      "39    73\n",
      "40    72\n",
      "41    69\n",
      "42    73\n",
      "43    75\n",
      "44    68\n",
      "45    76\n",
      "46    73\n",
      "47    70\n",
      "48    77\n",
      "49    70\n",
      "50    72\n",
      "51    76\n",
      "52    68\n",
      "53    72\n",
      "54    70\n",
      "55    75\n",
      "56    73\n",
      "57    73\n",
      "58    74\n",
      "59    69\n",
      "60    69\n",
      "61    75\n",
      "62    72\n",
      "63    77\n",
      "64    70\n",
      "65    68\n",
      "66    75\n",
      "67    69\n",
      "68    77\n",
      "69    66\n",
      "70    69\n",
      "71    76\n",
      "72    75\n",
      "73    70\n",
      "74    76\n",
      "Name: height, dtype: int64, 40    72\n",
      "41    69\n",
      "42    73\n",
      "43    75\n",
      "44    68\n",
      "45    76\n",
      "46    73\n",
      "47    70\n",
      "48    77\n",
      "49    70\n",
      "50    72\n",
      "51    76\n",
      "52    68\n",
      "53    72\n",
      "54    70\n",
      "55    75\n",
      "56    73\n",
      "57    73\n",
      "58    74\n",
      "59    69\n",
      "60    69\n",
      "61    75\n",
      "62    72\n",
      "63    77\n",
      "64    70\n",
      "65    68\n",
      "66    75\n",
      "67    69\n",
      "68    77\n",
      "69    66\n",
      "70    69\n",
      "71    76\n",
      "72    75\n",
      "73    70\n",
      "74    76\n",
      "Name: height, dtype: int64]\n"
     ]
    },
    {
     "data": {
      "text/plain": [
       "[nan, 0.4513015561486414, 0.5334883728232276]"
      ]
     },
     "execution_count": 16,
     "metadata": {},
     "output_type": "execute_result"
    }
   ],
   "source": [
    "# Run the t-test\n",
    "\n",
    "div = 20\n",
    "lim = len(wba_data) // div\n",
    "wba_samples = [wba_data.iloc[(i * div):(i * div * div), 3]\n",
    "            for i in range(0, lim)]\n",
    "print(wba_samples)\n",
    "wba_mean_samples = [s.mean() for s in wba_samples]\n",
    "wba_sem = [s.sem() for s in wba_samples]\n",
    "wba_mean_samples\n",
    "wba_sem"
   ]
  },
  {
   "cell_type": "code",
   "execution_count": 9,
   "metadata": {},
   "outputs": [],
   "source": [
    "# Report the data"
   ]
  },
  {
   "cell_type": "code",
   "execution_count": 10,
   "metadata": {},
   "outputs": [],
   "source": [
    "# Plot sample means with error bars"
   ]
  },
  {
   "cell_type": "code",
   "execution_count": 7,
   "metadata": {},
   "outputs": [],
   "source": [
    "# Plot mean height of players"
   ]
  },
  {
   "cell_type": "code",
   "execution_count": null,
   "metadata": {},
   "outputs": [],
   "source": []
  }
 ],
 "metadata": {
  "kernelspec": {
   "display_name": "Python 3",
   "language": "python",
   "name": "python3"
  },
  "language_info": {
   "codemirror_mode": {
    "name": "ipython",
    "version": 3
   },
   "file_extension": ".py",
   "mimetype": "text/x-python",
   "name": "python",
   "nbconvert_exporter": "python",
   "pygments_lexer": "ipython3",
   "version": "3.6.5"
  }
 },
 "nbformat": 4,
 "nbformat_minor": 2
}
